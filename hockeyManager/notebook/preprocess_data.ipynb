{
 "cells": [
  {
   "cell_type": "code",
   "execution_count": 1,
   "id": "3d866b7d",
   "metadata": {},
   "outputs": [],
   "source": [
    "import csv\n",
    "from bs4 import BeautifulSoup\n",
    "import pandas as pd\n",
    "import os\n",
    "from datetime import date\n"
   ]
  },
  {
   "cell_type": "code",
   "execution_count": 2,
   "id": "700e3289",
   "metadata": {},
   "outputs": [],
   "source": [
    "PATH_IN = '../data_jeannie/raw/'\n",
    "PATH_OUT = '../data_jeannie/per_week/'"
   ]
  },
  {
   "cell_type": "code",
   "execution_count": 3,
   "id": "ae5f5a2e",
   "metadata": {},
   "outputs": [],
   "source": [
    "PATH_IN = '../data/raw/'\n",
    "PATH_OUT = '../data/per_week/'"
   ]
  },
  {
   "cell_type": "code",
   "execution_count": 4,
   "id": "9cd8d8b9",
   "metadata": {},
   "outputs": [],
   "source": [
    "def get_pdetail(hmtl_data):\n",
    "    player_details = dict()\n",
    "    soup = BeautifulSoup(hmtl_data)\n",
    "    player_details_html = soup.find_all(\"div\", {\"class\": \"histogram horiz\"})\n",
    "    for info in player_details_html:\n",
    "        player_details[info['label']] = info['value']\n",
    "    return player_details"
   ]
  },
  {
   "cell_type": "code",
   "execution_count": 5,
   "id": "d05c3e72",
   "metadata": {},
   "outputs": [],
   "source": [
    "def process_players(file_name):\n",
    "\n",
    "    # load data\n",
    "    players = []\n",
    "    path_player_file = PATH_IN +'/'+ file_name+'.csv'\n",
    "    with open(path_player_file,'r',encoding='utf-8') as f:\n",
    "        player_reader = csv.reader(f, delimiter=',', quotechar='\"')\n",
    "\n",
    "        for row in player_reader:\n",
    "            players_detail = dict()\n",
    "\n",
    "            players_detail['id'] = row[0]\n",
    "\n",
    "            players_detail['role'] = row[1]\n",
    "            players_detail['name'] = row[2]\n",
    "            players_detail['club'] = row[3][row[3].find('clubs/')+6:row[3].find('/logo.png')]\n",
    "            players_detail['etranger'] = 'OUI' if '/ch.png' not in row[5] else 'NON' \n",
    "\n",
    "            if '<div' in row[6]:\n",
    "                players_detail.update(get_pdetail(row[6])) \n",
    "            players.append(players_detail)\n",
    "\n",
    "    # Save to excel\n",
    "    today = date.today()\n",
    "    df = pd.DataFrame(players).set_index('id')\n",
    "    path_dir_out = PATH_OUT +f'/{str(today)}/'\n",
    "    file_name_out =  file_name+'.xlsx'\n",
    "\n",
    "    os.makedirs(path_dir_out,exist_ok=True)\n",
    "    df.to_excel(path_dir_out+'/'+file_name_out)"
   ]
  },
  {
   "cell_type": "code",
   "execution_count": 6,
   "id": "5882f8bd",
   "metadata": {},
   "outputs": [],
   "source": [
    "process_players('my_players')"
   ]
  },
  {
   "cell_type": "code",
   "execution_count": 7,
   "id": "0e1d5016",
   "metadata": {},
   "outputs": [],
   "source": [
    "process_players('other_players')"
   ]
  },
  {
   "cell_type": "code",
   "execution_count": null,
   "id": "e4b42531",
   "metadata": {},
   "outputs": [],
   "source": [
    "\n"
   ]
  }
 ],
 "metadata": {
  "kernelspec": {
   "display_name": "Python 3 (ipykernel)",
   "language": "python",
   "name": "python3"
  },
  "language_info": {
   "codemirror_mode": {
    "name": "ipython",
    "version": 3
   },
   "file_extension": ".py",
   "mimetype": "text/x-python",
   "name": "python",
   "nbconvert_exporter": "python",
   "pygments_lexer": "ipython3",
   "version": "3.9.13"
  }
 },
 "nbformat": 4,
 "nbformat_minor": 5
}
