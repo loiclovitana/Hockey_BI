{
 "cells": [
  {
   "cell_type": "code",
   "id": "cbb205dd",
   "metadata": {},
   "source": [
    "import pandas as pd\n",
    "import os"
   ],
   "outputs": [],
   "execution_count": null
  },
  {
   "cell_type": "code",
   "id": "da27e7db",
   "metadata": {},
   "source": [
    "PATH_PER_WEEK = '../data_jeannie/per_week/'\n",
    "PATH_FINAL = '../data_jeannie/final/'"
   ],
   "outputs": [],
   "execution_count": null
  },
  {
   "cell_type": "code",
   "id": "6cd78cde",
   "metadata": {},
   "source": [
    "PATH_PER_WEEK = '../data/per_week/'\n",
    "PATH_FINAL = '../data/final/'"
   ],
   "outputs": [],
   "execution_count": null
  },
  {
   "cell_type": "code",
   "id": "9991a2d3",
   "metadata": {},
   "source": [],
   "outputs": [],
   "execution_count": null
  },
  {
   "cell_type": "code",
   "id": "3aca66fc",
   "metadata": {},
   "source": [
    "all_players_data= []\n",
    "for week in os.listdir(PATH_PER_WEEK):\n",
    "    path = PATH_PER_WEEK+'/'+week\n",
    "    \n",
    "    myplayers=pd.read_excel(path+'/my_players.xlsx',index_col='id')\n",
    "    otherplayers=pd.read_excel(path+'/other_players.xlsx',index_col='id')\n",
    "    \n",
    "    myplayers['owned']='OUI'\n",
    "    otherplayers['owned']='NON'\n",
    "    myplayers['date']=week\n",
    "    otherplayers['date']=week\n",
    "    all_players_data.append(myplayers)\n",
    "    all_players_data.append(otherplayers)\n",
    "all_players = pd.concat(all_players_data)"
   ],
   "outputs": [],
   "execution_count": null
  },
  {
   "cell_type": "code",
   "id": "e8584911",
   "metadata": {},
   "source": [
    "MAX_DATE = all_players['date'].max()\n",
    "MAX_DATE"
   ],
   "outputs": [],
   "execution_count": null
  },
  {
   "cell_type": "code",
   "id": "9cbd84fb",
   "metadata": {},
   "source": [
    "path_dir_out = PATH_FINAL +f'/{MAX_DATE}/'\n",
    "file_name_out =  'all.xlsx'\n",
    "os.makedirs(path_dir_out,exist_ok=True)\n",
    "all_players.to_excel(path_dir_out+'/'+file_name_out)"
   ],
   "outputs": [],
   "execution_count": null
  },
  {
   "cell_type": "code",
   "id": "1cbe5226",
   "metadata": {},
   "source": [],
   "outputs": [],
   "execution_count": null
  },
  {
   "cell_type": "code",
   "id": "2f389433",
   "metadata": {},
   "source": [],
   "outputs": [],
   "execution_count": null
  },
  {
   "cell_type": "code",
   "id": "77bc8fbd",
   "metadata": {},
   "source": [],
   "outputs": [],
   "execution_count": null
  },
  {
   "cell_type": "markdown",
   "id": "7ca2c15a",
   "metadata": {},
   "source": [
    "---\n",
    "# ANALYSIS"
   ]
  },
  {
   "cell_type": "code",
   "id": "62dc8923",
   "metadata": {},
   "source": [
    "print(all_players.columns)"
   ],
   "outputs": [],
   "execution_count": null
  },
  {
   "cell_type": "code",
   "id": "81bddd82",
   "metadata": {},
   "source": [
    "analysis_df = all_players[all_players['date']==MAX_DATE]"
   ],
   "outputs": [],
   "execution_count": null
  },
  {
   "cell_type": "code",
   "id": "dc0b1279",
   "metadata": {},
   "source": [
    "analysis_df.loc[:,'VALUE_DIFF'] = analysis_df['HM points AVG']- analysis_df['Price']"
   ],
   "outputs": [],
   "execution_count": null
  },
  {
   "cell_type": "markdown",
   "id": "2b36b741",
   "metadata": {},
   "source": [
    "## Player to buy !"
   ]
  },
  {
   "cell_type": "code",
   "id": "5108a1b8",
   "metadata": {},
   "source": [
    "analysis_df[ (~pd.isnull(analysis_df['HM points']) ) & (analysis_df['owned'] =='NON' )\n",
    "            ].nlargest(20, 'VALUE_DIFF')[['role','name','club','Price','HM points','HM points AVG','VALUE_DIFF','Appareances']]"
   ],
   "outputs": [],
   "execution_count": null
  },
  {
   "cell_type": "markdown",
   "id": "56814cf8",
   "metadata": {},
   "source": [
    "## Player to buy in range!"
   ]
  },
  {
   "cell_type": "code",
   "id": "c270b36d",
   "metadata": {},
   "source": [
    "MIN_PRICE = 6\n",
    "MAX_PRICE = 8.5\n",
    "\n",
    "analysis_df[ (~pd.isnull(analysis_df['HM points']) ) & (analysis_df['owned'] =='NON' ) \n",
    "                & (analysis_df['Price'] >=MIN_PRICE )& (analysis_df['Price'] <=MAX_PRICE  )\n",
    "            ].nlargest(20, 'VALUE_DIFF')[['role','name','club','Price','HM points','HM points AVG','VALUE_DIFF','Appareances']]"
   ],
   "outputs": [],
   "execution_count": null
  },
  {
   "cell_type": "markdown",
   "id": "9a1dd2fc",
   "metadata": {},
   "source": [
    "## Player to Sell!"
   ]
  },
  {
   "cell_type": "code",
   "id": "38f55f40",
   "metadata": {},
   "source": [
    "analysis_df[ (~pd.isnull(analysis_df['HM points']) ) & (analysis_df['owned'] =='OUI' )\n",
    "            ].nsmallest(30, 'VALUE_DIFF')[['role','name','club','Price','HM points','HM points AVG','VALUE_DIFF','Appareances']]"
   ],
   "outputs": [],
   "execution_count": null
  },
  {
   "cell_type": "code",
   "id": "4b3b63fc",
   "metadata": {},
   "source": [
    "analysis_df[ (~pd.isnull(analysis_df['HM points']) ) & (analysis_df['owned'] =='OUI' )\n",
    "            ].nsmallest(20, 'Appareances')[['role','name','club','Price','HM points','HM points AVG','VALUE_DIFF','Appareances']]"
   ],
   "outputs": [],
   "execution_count": null
  },
  {
   "cell_type": "code",
   "id": "4d032e7a",
   "metadata": {},
   "source": [
    "analysis_df[ (~pd.isnull(analysis_df['HM points']) ) & (analysis_df['owned'] =='NON' ) & (analysis_df['Price'] <3)\n",
    "            ].nlargest(20, 'Appareances')[['role','name','club','Price','HM points','HM points AVG','VALUE_DIFF','Appareances']]"
   ],
   "outputs": [],
   "execution_count": null
  },
  {
   "cell_type": "code",
   "id": "223546b5",
   "metadata": {},
   "source": [],
   "outputs": [],
   "execution_count": null
  }
 ],
 "metadata": {
  "kernelspec": {
   "display_name": "Python 3 (ipykernel)",
   "language": "python",
   "name": "python3"
  },
  "language_info": {
   "codemirror_mode": {
    "name": "ipython",
    "version": 3
   },
   "file_extension": ".py",
   "mimetype": "text/x-python",
   "name": "python",
   "nbconvert_exporter": "python",
   "pygments_lexer": "ipython3",
   "version": "3.12.4"
  }
 },
 "nbformat": 4,
 "nbformat_minor": 5
}
