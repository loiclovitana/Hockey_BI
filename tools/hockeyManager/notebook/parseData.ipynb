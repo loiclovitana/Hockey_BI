{
 "cells": [
  {
   "cell_type": "code",
   "id": "ced10c34-e5b4-4181-9fce-7d333861113d",
   "metadata": {},
   "source": [
    "import requests\n",
    "import random"
   ],
   "outputs": [],
   "execution_count": null
  },
  {
   "cell_type": "code",
   "id": "47dc4eb5-427c-4b50-b400-513fec7a554b",
   "metadata": {},
   "source": [
    "HOCKEY_URL = \"https://www.hockeymanager.ch/\"\n",
    "ajax_path = \"ajaxrequest/\""
   ],
   "outputs": [],
   "execution_count": null
  },
  {
   "cell_type": "code",
   "id": "cd6a5b28-7a8a-4b5f-a0fa-778f03f97b89",
   "metadata": {},
   "source": [
    "headers = {\n",
    "    \"Accept\": \"*/*\",\n",
    "    \"Accept-Encoding\": \"gzip, deflate, br, zstd\",\n",
    "    \"Accept-Language\": \"en-US,en;q=0.5\",\n",
    "    \"Connection\": \"keep-alive\",\n",
    "    \"Content-Length\": \"90\",\n",
    "    \"Content-Type\": \"application/x-www-form-urlencoded; charset=UTF-8\",\n",
    "    \"Host\": \"www.hockeymanager.ch\",\n",
    "    \"Origin\": \"https://www.hockeymanager.ch\",\n",
    "    \"Referer\": \"https://www.hockeymanager.ch/\",\n",
    "    \"Sec-Fetch-Dest\": \"empty\",\n",
    "    \"Sec-Fetch-Mode\": \"cors\",\n",
    "    \"Sec-Fetch-Site\": \"same-origin\",\n",
    "    \"User-Agent\": \"Mozilla/5.0 (Windows NT 10.0; Win64; x64; rv:130.0) Gecko/20100101 Firefox/130.0\",\n",
    "    \"X-Requested-With\": \"XMLHttpRequest\"\n",
    "}"
   ],
   "outputs": [],
   "execution_count": null
  },
  {
   "cell_type": "code",
   "id": "77699dc3-988e-416c-82d6-0e908c18d055",
   "metadata": {},
   "source": [
    "USER = \"email\"\n",
    "PASSWORD = \"password\""
   ],
   "outputs": [],
   "execution_count": null
  },
  {
   "cell_type": "code",
   "id": "42996089-be9e-453b-8cf5-2d675d2ddfbc",
   "metadata": {},
   "source": [
    "session = requests.session()\n",
    "data = f\"fh_u={USER}&fh_p={PASSWORD}&randomNumber=89234645\" \n",
    "response = session.post(HOCKEY_URL+ajax_path+\"try-login\",data)\n",
    "sessionCookie = response.cookies"
   ],
   "outputs": [],
   "execution_count": null
  },
  {
   "cell_type": "code",
   "id": "92097f32-2647-44e5-a2bb-d91c610b8a2e",
   "metadata": {},
   "source": [
    "response.content"
   ],
   "outputs": [],
   "execution_count": null
  },
  {
   "cell_type": "code",
   "id": "71ecbd1c-d601-49e2-a810-be5b54743392",
   "metadata": {},
   "source": [],
   "outputs": [],
   "execution_count": null
  },
  {
   "cell_type": "code",
   "id": "16c8a68f-67ac-4c2c-b881-446443fa9567",
   "metadata": {},
   "source": [
    "response.cookies.get_dict()"
   ],
   "outputs": [],
   "execution_count": null
  },
  {
   "cell_type": "code",
   "id": "faad48de-7cc9-429e-b26b-dea46314ef4f",
   "metadata": {},
   "source": [
    "data = \"randomNumber=425447575&role=0&club=0&player=&min=1&max=20&country=0&blG=0&blP=0&orderBy=&orderByDirection=\"\n",
    "\n",
    "player_list = session.post(HOCKEY_URL+ajax_path+\"transfers-classic-get-list-preview\",data,cookies = sessionCookie,headers = headers)"
   ],
   "outputs": [],
   "execution_count": null
  },
  {
   "cell_type": "code",
   "id": "c0dfda46-5971-4d75-9e97-4650b547f0a2",
   "metadata": {},
   "source": [
    "player_list.content"
   ],
   "outputs": [],
   "execution_count": null
  },
  {
   "cell_type": "code",
   "id": "84c3da23-a166-48d7-b6e5-aa730ff2eb45",
   "metadata": {},
   "source": [
    "player_list.headers"
   ],
   "outputs": [],
   "execution_count": null
  },
  {
   "cell_type": "code",
   "id": "8d94da03-9951-4f62-8321-84f949ffbd1d",
   "metadata": {},
   "source": [
    "sessionCookie"
   ],
   "outputs": [],
   "execution_count": null
  },
  {
   "cell_type": "code",
   "id": "e22fb49b-20bd-456d-beb1-10b24334370f",
   "metadata": {},
   "source": [
    "dashboard = session.get(\"https://www.hockeymanager.ch/\",cookies = sessionCookie.get_dict())"
   ],
   "outputs": [],
   "execution_count": null
  },
  {
   "cell_type": "code",
   "id": "aa186f94-7773-4618-9ee7-c3830a01017e",
   "metadata": {},
   "source": [
    "with open(\"index.html\",\"wb\") as f:\n",
    " f.write(dashboard.content)"
   ],
   "outputs": [],
   "execution_count": null
  },
  {
   "cell_type": "code",
   "id": "046e9deb-3484-4f50-b405-53bbe22fd615",
   "metadata": {},
   "source": [
    "sessionCookie.get_dict()"
   ],
   "outputs": [],
   "execution_count": null
  },
  {
   "cell_type": "code",
   "id": "9bc4dfe1-bd5d-495f-b27e-25d9ea696bf1",
   "metadata": {},
   "source": [],
   "outputs": [],
   "execution_count": null
  }
 ],
 "metadata": {
  "kernelspec": {
   "display_name": "Python 3 (ipykernel)",
   "language": "python",
   "name": "python3"
  },
  "language_info": {
   "codemirror_mode": {
    "name": "ipython",
    "version": 3
   },
   "file_extension": ".py",
   "mimetype": "text/x-python",
   "name": "python",
   "nbconvert_exporter": "python",
   "pygments_lexer": "ipython3",
   "version": "3.12.4"
  }
 },
 "nbformat": 4,
 "nbformat_minor": 5
}
