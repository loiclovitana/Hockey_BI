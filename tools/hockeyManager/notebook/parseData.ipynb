{
 "cells": [
  {
   "cell_type": "code",
   "execution_count": 17,
   "id": "ced10c34-e5b4-4181-9fce-7d333861113d",
   "metadata": {
    "jupyter": {
     "is_executing": true
    }
   },
   "outputs": [],
   "source": [
    "import requests\n",
    "from hmtracker.parser.hmparser import *\n",
    "from hmtracker.parser.hmparser import _scrap_players_html_list"
   ]
  },
  {
   "cell_type": "code",
   "execution_count": 2,
   "id": "77699dc3-988e-416c-82d6-0e908c18d055",
   "metadata": {},
   "outputs": [],
   "source": [
    "from os import getenv\n",
    "USER = getenv(\"HM_USER\")\n",
    "PASSWORD = getenv(\"HM_PASSWORD\")"
   ]
  },
  {
   "cell_type": "code",
   "execution_count": 3,
   "id": "9bc4dfe1-bd5d-495f-b27e-25d9ea696bf1",
   "metadata": {},
   "outputs": [],
   "source": [
    "scrapper = HMAjaxScrapper()"
   ]
  },
  {
   "cell_type": "code",
   "execution_count": 4,
   "id": "acb05825",
   "metadata": {},
   "outputs": [],
   "source": [
    "scrapper.connect_to_hm(USER,PASSWORD)"
   ]
  },
  {
   "cell_type": "code",
   "execution_count": 14,
   "id": "d2e99d0a",
   "metadata": {},
   "outputs": [
    {
     "name": "stderr",
     "output_type": "stream",
     "text": [
      "WARNING:root:Couldn't get player team, maybe the admin still doesn't have a teamCouldn't query the players list from: <200>\n"
     ]
    },
    {
     "data": {
      "text/plain": [
       "376"
      ]
     },
     "execution_count": 14,
     "metadata": {},
     "output_type": "execute_result"
    }
   ],
   "source": [
    "x = scrapper.get_all_players()\n",
    "len(x)"
   ]
  },
  {
   "cell_type": "code",
   "execution_count": 20,
   "id": "641819c7",
   "metadata": {},
   "outputs": [
    {
     "data": {
      "text/plain": [
       "28"
      ]
     },
     "execution_count": 20,
     "metadata": {},
     "output_type": "execute_result"
    }
   ],
   "source": [
    "a = _scrap_players_html_list(scrapper._get_player_html_list(club=2))\n",
    "len(a)"
   ]
  }
 ],
 "metadata": {
  "kernelspec": {
   "display_name": "Python 3 (ipykernel)",
   "language": "python",
   "name": "python3"
  },
  "language_info": {
   "codemirror_mode": {
    "name": "ipython",
    "version": 3
   },
   "file_extension": ".py",
   "mimetype": "text/x-python",
   "name": "python",
   "nbconvert_exporter": "python",
   "pygments_lexer": "ipython3",
   "version": "3.13.5"
  }
 },
 "nbformat": 4,
 "nbformat_minor": 5
}
