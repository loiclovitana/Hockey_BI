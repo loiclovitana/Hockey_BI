{
 "cells": [
  {
   "cell_type": "code",
   "id": "ced10c34-e5b4-4181-9fce-7d333861113d",
   "metadata": {
    "jupyter": {
     "is_executing": true
    }
   },
   "source": [
    "import requests\n",
    "import random"
   ],
   "outputs": [],
   "execution_count": null
  },
  {
   "cell_type": "code",
   "id": "47dc4eb5-427c-4b50-b400-513fec7a554b",
   "metadata": {},
   "source": [
    "HOCKEY_URL = \"https://www.hockeymanager.ch/\"\n",
    "ajax_path = \"ajaxrequest/\""
   ],
   "outputs": [],
   "execution_count": null
  },
  {
   "cell_type": "code",
   "id": "cd6a5b28-7a8a-4b5f-a0fa-778f03f97b89",
   "metadata": {},
   "source": [
    "headers = {\n",
    "    \"Accept\": \"*/*\",\n",
    "    \"Accept-Encoding\": \"gzip, deflate, br, zstd\",\n",
    "    \"Accept-Language\": \"en-US,en;q=0.5\",\n",
    "    \"Connection\": \"keep-alive\",\n",
    "    \"Content-Type\": \"application/x-www-form-urlencoded; charset=UTF-8\",\n",
    "    \"Host\": \"www.hockeymanager.ch\",\n",
    "    \"Origin\": \"https://www.hockey-bi.vandenberghe.ch\",\n",
    "    \"Referer\": \"https://www.hockeymanager.ch/\",\n",
    "    \"Sec-Fetch-Dest\": \"empty\",\n",
    "    \"Sec-Fetch-Mode\": \"cors\",\n",
    "    \"Sec-Fetch-Site\": \"same-origin\",\n",
    "    \"X-Requested-With\": \"XMLHttpRequest\"\n",
    "}"
   ],
   "outputs": [],
   "execution_count": null
  },
  {
   "cell_type": "code",
   "id": "77699dc3-988e-416c-82d6-0e908c18d055",
   "metadata": {},
   "source": [
    "USER = \"email\"\n",
    "PASSWORD = \"password\""
   ],
   "outputs": [],
   "execution_count": null
  },
  {
   "cell_type": "code",
   "id": "42996089-be9e-453b-8cf5-2d675d2ddfbc",
   "metadata": {},
   "source": [
    "session = requests.session()\n",
    "session.headers.update(headers)\n",
    "data = f\"fh_u={USER}&fh_p={PASSWORD}&randomNumber=89234645\"\n",
    "response = session.post(HOCKEY_URL+ajax_path+\"try-login\",data)\n",
    "connection_success = response.status_code == 200 and response.text == '1'\n",
    "if not connection_success:\n",
    "    raise ConnectionError(\"Couldn't connect to Hockey Manager\")"
   ],
   "outputs": [],
   "execution_count": null
  },
  {
   "cell_type": "code",
   "id": "6bcf12b8-ee7e-4726-8f23-743ff8d30e92",
   "metadata": {},
   "source": [
    "session.close()"
   ],
   "outputs": [],
   "execution_count": null
  },
  {
   "cell_type": "code",
   "id": "faad48de-7cc9-429e-b26b-dea46314ef4f",
   "metadata": {},
   "source": [
    "data = \"randomNumber=425447575&role=0&club=-1&player=&min=1&max=50&country=0&blG=0&blP=0&orderBy=&orderByDirection=\"\n",
    "\n",
    "player_list = session.post(HOCKEY_URL+ajax_path+\"transfers-classic-get-list-preview\",data)"
   ],
   "outputs": [],
   "execution_count": null
  },
  {
   "cell_type": "code",
   "id": "c0dfda46-5971-4d75-9e97-4650b547f0a2",
   "metadata": {},
   "source": [
    "player_list.text"
   ],
   "outputs": [],
   "execution_count": null
  },
  {
   "cell_type": "code",
   "id": "84c3da23-a166-48d7-b6e5-aa730ff2eb45",
   "metadata": {},
   "source": [
    "player_list.status_code"
   ],
   "outputs": [],
   "execution_count": null
  },
  {
   "cell_type": "code",
   "id": "9bc4dfe1-bd5d-495f-b27e-25d9ea696bf1",
   "metadata": {},
   "source": [],
   "outputs": [],
   "execution_count": null
  }
 ],
 "metadata": {
  "kernelspec": {
   "display_name": "Python 3 (ipykernel)",
   "language": "python",
   "name": "python3"
  },
  "language_info": {
   "codemirror_mode": {
    "name": "ipython",
    "version": 3
   },
   "file_extension": ".py",
   "mimetype": "text/x-python",
   "name": "python",
   "nbconvert_exporter": "python",
   "pygments_lexer": "ipython3",
   "version": "3.12.4"
  }
 },
 "nbformat": 4,
 "nbformat_minor": 5
}
